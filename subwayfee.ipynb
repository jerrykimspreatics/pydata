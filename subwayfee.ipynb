{
 "cells": [
  {
   "cell_type": "markdown",
   "id": "c3a5a752-03ca-4872-b5d7-450a8e1ec078",
   "metadata": {},
   "source": [
    "### 유임승차 비율이 가장 높은 역은 어디일까?"
   ]
  },
  {
   "cell_type": "code",
   "execution_count": null,
   "id": "54924744-ee83-40ef-89bb-b5758cf2bc55",
   "metadata": {},
   "outputs": [],
   "source": [
    "import csv\n",
    "\n",
    "with open('datas/subwayfee.csv', 'r') as f:\n",
    "    data = csv.reader(f)\n",
    "    header = next(data)   # 제목행 제거\n",
    "    rate = 0  # 비율 데이터값\n",
    "    max = 0    # 비율중 최대값\n",
    "    for row in data:\n",
    "        for i in range(4, 8):\n",
    "            row[i] = int(row[i])  # 4~7열 문자를 숫자로 변환\n",
    "        if row[6] != 0:\n",
    "            # print(row)\n",
    "            rate = row[4] / row[6]    # 유임승차 / 무임승차(충무로 역 환승 이상)\n",
    "            if rate > max:\n",
    "                max = rate\n",
    "            print(row, round(rate,2))\n",
    "        # print(row)\n",
    "    print(max)"
   ]
  },
  {
   "cell_type": "code",
   "execution_count": 41,
   "id": "6bc2f033-1661-472a-96d0-410303955e5e",
   "metadata": {},
   "outputs": [
    {
     "name": "stdout",
     "output_type": "stream",
     "text": [
      "['2024-03', '2호선', '0202', '을지로입구', 1315801, 1345993, 106482, 99349] 0.93\n",
      "['2024-03', '2호선', '0209', '한양대', 381269, 433076, 14528, 15614] 0.96\n",
      "['2024-03', '2호선', '0219', '삼성(무역센터)', 1477627, 1487865, 124600, 115096] 0.92\n",
      "['2024-03', '2호선', '0222', '강남', 2209300, 2161564, 167337, 146031] 0.93\n",
      "['2024-03', '2호선', '0238', '합정', 943223, 1024575, 74724, 75584] 0.93\n",
      "['2024-03', '2호선', '0239', '홍대입구', 2185511, 2360413, 102715, 99837] 0.96\n",
      "['2024-03', '4호선', '0424', '명동', 1033500, 1118531, 81504, 84736] 0.93\n",
      "['2024-03', '경부선', '1001', '서울역', 302024, 101822, 18565, 4416] 0.94\n",
      "['2024-03', '5호선', '2527', '여의도', 756622, 809969, 58407, 56231] 0.93\n",
      "['2024-03', '5호선', '2528', '여의나루', 406542, 456766, 33598, 32895] 0.92\n",
      "['2024-03', '6호선', '2624', '상수', 310751, 352361, 23081, 23320] 0.93\n",
      "['2024-03', '6호선', '2632', '한강진', 298690, 350711, 17887, 17641] 0.94\n",
      "['2024-03', '9호선', '4115', '여의도', 784588, 754603, 55926, 51733] 0.93\n",
      "['2024-03', '9호선', '4125', '신논현', 886762, 884581, 58901, 57776] 0.94\n",
      "['2024-03', '공항철도 1호선', '4203', '홍대입구', 445365, 435472, 22015, 19851] 0.95\n",
      "['2024-03', '공항철도 1호선', '4204', '디지털미디어시티', 371754, 347676, 30609, 29512] 0.92\n",
      "['2024-03', '공항철도 1호선', '4206', '마곡나루(서울식물원)', 282354, 271968, 18085, 18729] 0.94\n",
      "['2024-03', '공항철도 1호선', '4210', '청라국제도시', 201478, 191786, 15630, 15433] 0.93\n",
      "한양대 2호선 96.33\n"
     ]
    }
   ],
   "source": [
    "import csv\n",
    "\n",
    "with open('datas/subwayfee.csv', 'r') as f:\n",
    "    data = csv.reader(f)\n",
    "    header = next(data)   # 제목행 제거\n",
    "    rate = 0  # 비율 데이터값\n",
    "    max = 0    # 비율중 최대값\n",
    "    max_station = ''  # 유임승차 비율이 가장 높은 역\n",
    "    for row in data:\n",
    "        for i in range(4, 8):\n",
    "            row[i] = int(row[i])  # 4~7열 문자를 숫자로 변환\n",
    "        if row[6] != 0 and (row[4] + row[6]) > 100000:\n",
    "            rate = row[4] / (row[4] + row[6])    # rate = 유임승차 /전체(유임+무임)\n",
    "            if rate > max:\n",
    "                max = rate\n",
    "                max_station = row[3] + ' ' + row[1]\n",
    "            # if rate > 0.92:   # 젊은 사람들이 많이 모이는 곳\n",
    "            #     print(row, round(rate,2))\n",
    "    print(max_station, round(max*100, 2))   #percetage로 환산"
   ]
  },
  {
   "cell_type": "markdown",
   "id": "7944ad87-8ba0-4b1b-a96d-511299f96427",
   "metadata": {},
   "source": [
    "### 유무임 승하차 인원이 가장 많은 역은 어디일까?"
   ]
  },
  {
   "cell_type": "code",
   "execution_count": 47,
   "id": "2cfe7ac2-9ab6-4dfe-9d50-c1fa5001a980",
   "metadata": {},
   "outputs": [
    {
     "name": "stdout",
     "output_type": "stream",
     "text": [
      "유임승차 : 강남 2호선 2209300\n",
      "유임하차 : 홍대입구 2호선 2360413\n",
      "무임승차 : 영등포 경부선 315673\n",
      "무임하차 : 영등포 경부선 317344\n"
     ]
    }
   ],
   "source": [
    "import csv\n",
    "\n",
    "with open(\"datas/subwayfee.csv\", \"r\") as f:\n",
    "    data = csv.reader(f)\n",
    "    next(data)\n",
    "    mx = [0, 0, 0, 0]\n",
    "    mx_station = ['', '', '', ''] \n",
    "    label = ['유임승차', '유임하차', '무임승차', '무임하차']\n",
    "\n",
    "    for row in data:\n",
    "        for i in range(4, 8):\n",
    "            row[i] = int(row[i])\n",
    "            if row[i] > mx[i-4]:\n",
    "                mx[i-4] = row[i]\n",
    "                mx_station[i-4] = row[3] + \" \" + row[1]\n",
    "    for i in range(4):\n",
    "        print(label[i] + \" : \" + mx_station[i], mx[i])"
   ]
  },
  {
   "cell_type": "markdown",
   "id": "7b5d3533-07e5-4e5d-9a22-3b497fbc5d0e",
   "metadata": {},
   "source": [
    "### 모든 역의 유무임 승하차 비율 - 파이 차트"
   ]
  },
  {
   "cell_type": "code",
   "execution_count": null,
   "id": "a4db3769-447a-469d-ab40-5fdd84f49ddc",
   "metadata": {},
   "outputs": [],
   "source": [
    "import csv\n",
    "import matplotlib.pyplot as plt\n",
    "\n",
    "f = open(\"datas/subwayfee.csv\", \"r\")\n",
    "data = csv.reader(f)\n",
    "next(data)\n",
    "label = ['유임승차', '유임하차', '무임승차', '무임하차']\n",
    "c=['#14CCC0', '#389993', '#FF1C6A', '#CC14FF']\n",
    "plt.rc('font', family='Malgun Gothic')\n",
    "for row in data:\n",
    "    for i in range(4, 8):\n",
    "        row[i] = int(row[i])\n",
    "    plt.pie(row[4:8], labels=label, colors=c, autopct=\"%.2f%%\")\n",
    "    plt.title(row[3] + \" \" + row[1])\n",
    "    plt.axis('equal')\n",
    "    plt.show()"
   ]
  },
  {
   "cell_type": "code",
   "execution_count": null,
   "id": "3d95bbcd-da1a-4e29-bde6-b0d7b8918880",
   "metadata": {},
   "outputs": [],
   "source": []
  }
 ],
 "metadata": {
  "kernelspec": {
   "display_name": "Python 3 (ipykernel)",
   "language": "python",
   "name": "python3"
  },
  "language_info": {
   "codemirror_mode": {
    "name": "ipython",
    "version": 3
   },
   "file_extension": ".py",
   "mimetype": "text/x-python",
   "name": "python",
   "nbconvert_exporter": "python",
   "pygments_lexer": "ipython3",
   "version": "3.11.7"
  }
 },
 "nbformat": 4,
 "nbformat_minor": 5
}
