{
 "cells": [
  {
   "cell_type": "code",
   "execution_count": 9,
   "id": "62e10f7c-e251-4cd2-ab6c-b19240caa7f8",
   "metadata": {},
   "outputs": [
    {
     "data": {
      "text/plain": [
       "Flour     4 cups\n",
       "Milk       1 cup\n",
       "Eggs     2 large\n",
       "Spam       1 can\n",
       "Name: Dinner, dtype: object"
      ]
     },
     "execution_count": 9,
     "metadata": {},
     "output_type": "execute_result"
    }
   ],
   "source": [
    "import pandas as pd\n",
    "\n",
    "data = ['4 cups', '1 cup', '2 large', '1 can']\n",
    "index= ['Flour', 'Milk', 'Eggs', 'Spam']\n",
    "dinner = pd.Series(data, index=index, name= 'Dinner')\n",
    "dinner"
   ]
  },
  {
   "cell_type": "code",
   "execution_count": 3,
   "id": "d2497408-5ad5-40c9-a71f-ee0e198a76a5",
   "metadata": {},
   "outputs": [
    {
     "data": {
      "text/html": [
       "<div>\n",
       "<style scoped>\n",
       "    .dataframe tbody tr th:only-of-type {\n",
       "        vertical-align: middle;\n",
       "    }\n",
       "\n",
       "    .dataframe tbody tr th {\n",
       "        vertical-align: top;\n",
       "    }\n",
       "\n",
       "    .dataframe thead th {\n",
       "        text-align: right;\n",
       "    }\n",
       "</style>\n",
       "<table border=\"1\" class=\"dataframe\">\n",
       "  <thead>\n",
       "    <tr style=\"text-align: right;\">\n",
       "      <th></th>\n",
       "      <th>영희</th>\n",
       "      <th>철수</th>\n",
       "    </tr>\n",
       "  </thead>\n",
       "  <tbody>\n",
       "    <tr>\n",
       "      <th>2018</th>\n",
       "      <td>143.0</td>\n",
       "      <td>165</td>\n",
       "    </tr>\n",
       "    <tr>\n",
       "      <th>2019</th>\n",
       "      <td>150.0</td>\n",
       "      <td>172</td>\n",
       "    </tr>\n",
       "    <tr>\n",
       "      <th>2020</th>\n",
       "      <td>157.0</td>\n",
       "      <td>175</td>\n",
       "    </tr>\n",
       "    <tr>\n",
       "      <th>2021</th>\n",
       "      <td>160.0</td>\n",
       "      <td>180</td>\n",
       "    </tr>\n",
       "  </tbody>\n",
       "</table>\n",
       "</div>"
      ],
      "text/plain": [
       "         영희   철수\n",
       "2018  143.0  165\n",
       "2019  150.0  172\n",
       "2020  157.0  175\n",
       "2021  160.0  180"
      ]
     },
     "execution_count": 3,
     "metadata": {},
     "output_type": "execute_result"
    }
   ],
   "source": [
    "import pandas as pd\n",
    "\n",
    "index = ['2018', '2019', '2020', '2021']\n",
    "\n",
    "data = {\n",
    "    '영희': [143, 150, 157, 160],\n",
    "    '철수': [165, 172, 175, 180]\n",
    "}\n",
    "\n",
    "growth = pd.DataFrame(data, columns=['영희', '철수'], index=index)\n",
    "growth\n",
    "growth.astype('float')\n",
    "growth.astype({'영희': 'float'})"
   ]
  },
  {
   "cell_type": "code",
   "execution_count": 8,
   "id": "edf8797f-4801-413a-af4e-67ea6403ea25",
   "metadata": {},
   "outputs": [
    {
     "data": {
      "text/html": [
       "<div>\n",
       "<style scoped>\n",
       "    .dataframe tbody tr th:only-of-type {\n",
       "        vertical-align: middle;\n",
       "    }\n",
       "\n",
       "    .dataframe tbody tr th {\n",
       "        vertical-align: top;\n",
       "    }\n",
       "\n",
       "    .dataframe thead th {\n",
       "        text-align: right;\n",
       "    }\n",
       "</style>\n",
       "<table border=\"1\" class=\"dataframe\">\n",
       "  <thead>\n",
       "    <tr style=\"text-align: right;\">\n",
       "      <th></th>\n",
       "      <th>Apples</th>\n",
       "      <th>Bananas</th>\n",
       "    </tr>\n",
       "  </thead>\n",
       "  <tbody>\n",
       "    <tr>\n",
       "      <th>0</th>\n",
       "      <td>30</td>\n",
       "      <td>21</td>\n",
       "    </tr>\n",
       "  </tbody>\n",
       "</table>\n",
       "</div>"
      ],
      "text/plain": [
       "   Apples  Bananas\n",
       "0      30       21"
      ]
     },
     "execution_count": 8,
     "metadata": {},
     "output_type": "execute_result"
    }
   ],
   "source": [
    "import pandas as pd\n",
    "\n",
    "# fruits = pd.Series({\n",
    "#     'Apples': 30,\n",
    "#     'Bananas': 21\n",
    "# })\n",
    "\n",
    "fruits = pd.DataFrame({\n",
    "    'Apples': [30],\n",
    "    'Bananas': [21]\n",
    "})\n",
    "\n",
    "fruits"
   ]
  },
  {
   "cell_type": "code",
   "execution_count": null,
   "id": "e5d25884-50ac-4b82-bcae-5161df7021a4",
   "metadata": {},
   "outputs": [],
   "source": [
    "import pandas as pd\n",
    "\n",
    "data = {\n",
    "    'Apples': [35, 21],\n",
    "    'Bananas': [41, 34],\n",
    "}\n",
    "\n",
    "fruits = pd.DataFrame(data, index = ['2017 Sales', '2018 Sales'])\n",
    "fruits"
   ]
  },
  {
   "cell_type": "code",
   "execution_count": 11,
   "id": "e5fbdbb0-5946-4a55-ac87-459e9e86c448",
   "metadata": {},
   "outputs": [],
   "source": [
    "animals = pd.DataFrame(\n",
    "    {'Cows': [12, 20], 'Goats': [22, 19]}, \n",
    "    index=['Year 1', 'Year 2']\n",
    ")\n",
    "animals\n",
    "\n",
    "animals.to_csv('datas/cows and goats.csv')"
   ]
  },
  {
   "cell_type": "code",
   "execution_count": 16,
   "id": "299e6a1a-9c4b-4d1c-a43e-f74af5bfe9c2",
   "metadata": {},
   "outputs": [
    {
     "data": {
      "text/html": [
       "<div>\n",
       "<style scoped>\n",
       "    .dataframe tbody tr th:only-of-type {\n",
       "        vertical-align: middle;\n",
       "    }\n",
       "\n",
       "    .dataframe tbody tr th {\n",
       "        vertical-align: top;\n",
       "    }\n",
       "\n",
       "    .dataframe thead th {\n",
       "        text-align: right;\n",
       "    }\n",
       "</style>\n",
       "<table border=\"1\" class=\"dataframe\">\n",
       "  <thead>\n",
       "    <tr style=\"text-align: right;\">\n",
       "      <th></th>\n",
       "      <th>Cows</th>\n",
       "      <th>Goats</th>\n",
       "    </tr>\n",
       "  </thead>\n",
       "  <tbody>\n",
       "    <tr>\n",
       "      <th>Year 1</th>\n",
       "      <td>12</td>\n",
       "      <td>22</td>\n",
       "    </tr>\n",
       "    <tr>\n",
       "      <th>Year 2</th>\n",
       "      <td>20</td>\n",
       "      <td>19</td>\n",
       "    </tr>\n",
       "  </tbody>\n",
       "</table>\n",
       "</div>"
      ],
      "text/plain": [
       "        Cows  Goats\n",
       "Year 1    12     22\n",
       "Year 2    20     19"
      ]
     },
     "execution_count": 16,
     "metadata": {},
     "output_type": "execute_result"
    }
   ],
   "source": [
    "import pandas as pd\n",
    "\n",
    "temperature = pd.read_csv(\"datas/cows and goats.csv\", index_col = 0)\n",
    "temperature"
   ]
  },
  {
   "cell_type": "code",
   "execution_count": 27,
   "id": "088092e2-0de4-408d-b719-16083f3cccf5",
   "metadata": {},
   "outputs": [
    {
     "name": "stdout",
     "output_type": "stream",
     "text": [
      "       성별   이름\n",
      "회원번호          \n",
      "102365  남  김기용\n",
      "206587  여  장성화\n",
      "185365     이정훈\n",
      "589655  남  한성년\n",
      "회원번호\n",
      "102365    남\n",
      "206587    여\n",
      "185365     \n",
      "589655    남\n",
      "Name: 성별, dtype: object\n",
      "회원번호\n",
      "102365    False\n",
      "206587     True\n",
      "185365    False\n",
      "589655    False\n",
      "Name: 성별, dtype: bool\n",
      "       성별   이름\n",
      "회원번호          \n",
      "206587  여  장성화\n"
     ]
    }
   ],
   "source": [
    "import pandas as pd\n",
    "\n",
    "헬스장회원 = pd.DataFrame({\n",
    "    '회원번호': ['102365', '206587', '185365', '589655'],\n",
    "    '성별': ['남', '여', '', '남'],\n",
    "    '이름': ['김기용', '장성화', '이정훈', '한성년'] \n",
    "})\n",
    "# print(헬스장회원)\n",
    "헬스장회원2 = 헬스장회원.set_index('회원번호')\n",
    "print(헬스장회원2)\n",
    "print(헬스장회원2['성별'])\n"
   ]
  },
  {
   "cell_type": "code",
   "execution_count": 33,
   "id": "6f76a3cc-eb17-47ee-9274-104ea120351f",
   "metadata": {},
   "outputs": [
    {
     "name": "stdout",
     "output_type": "stream",
     "text": [
      "       성별   이름\n",
      "회원번호          \n",
      "102365  남  김기용\n",
      "206587  여  장성화\n",
      "185365     이정훈\n",
      "589655  남  한성년\n"
     ]
    }
   ],
   "source": [
    "import pandas as pd\n",
    "\n",
    "헬스장회원 = pd.DataFrame({\n",
    "    '회원번호': ['102365', '206587', '185365', '589655'],\n",
    "    '성별': ['남', '여', '', '남'],\n",
    "    '이름': ['김기용', '장성화', '이정훈', '한성년'] \n",
    "})\n",
    "# print(헬스장회원)\n",
    "헬스장회원2 = 헬스장회원.set_index('회원번호')\n",
    "print(헬스장회원2)\n",
    "# 헬스장회원2.loc['185365']['성별'] = '여'\n",
    "# print(헬스장회원2)"
   ]
  },
  {
   "cell_type": "code",
   "execution_count": null,
   "id": "7cd17bfe-1ab0-4173-8025-26772c17c790",
   "metadata": {},
   "outputs": [],
   "source": []
  }
 ],
 "metadata": {
  "kernelspec": {
   "display_name": "Python 3 (ipykernel)",
   "language": "python",
   "name": "python3"
  },
  "language_info": {
   "codemirror_mode": {
    "name": "ipython",
    "version": 3
   },
   "file_extension": ".py",
   "mimetype": "text/x-python",
   "name": "python",
   "nbconvert_exporter": "python",
   "pygments_lexer": "ipython3",
   "version": "3.11.7"
  }
 },
 "nbformat": 4,
 "nbformat_minor": 5
}
